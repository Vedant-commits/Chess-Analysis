{
 "cells": [
  {
   "cell_type": "code",
   "execution_count": 1,
   "id": "8113e580",
   "metadata": {},
   "outputs": [],
   "source": []
  },
  {
   "cell_type": "code",
   "execution_count": 42,
   "id": "935867ff",
   "metadata": {},
   "outputs": [
    {
     "name": "stdout",
     "output_type": "stream",
     "text": [
      "Dataset with moves saved!\n"
     ]
    }
   ],
   "source": [
    "import chess.pgn\n",
    "import pandas as pd\n",
    "\n",
    "def process_pgn_with_moves(file_path, num_games=5000):\n",
    "    games = []\n",
    "    with open(file_path) as pgn:\n",
    "        for i in range(num_games):\n",
    "            game = chess.pgn.read_game(pgn)\n",
    "            if game is None:\n",
    "                break\n",
    "            try:\n",
    "                # Extract moves\n",
    "                moves = \" \".join([move.uci() for move in game.mainline_moves()])\n",
    "                move_count = len(list(game.mainline_moves()))\n",
    "            except Exception as e:\n",
    "                # Handle cases where moves are not available\n",
    "                moves = None\n",
    "                move_count = 0\n",
    "\n",
    "            # Append game details\n",
    "            games.append({\n",
    "                \"White\": game.headers.get(\"White\", \"Unknown\"),\n",
    "                \"Black\": game.headers.get(\"Black\", \"Unknown\"),\n",
    "                \"Result\": game.headers.get(\"Result\", \"Unknown\"),\n",
    "                \"Opening\": game.headers.get(\"Opening\", \"Unknown\"),\n",
    "                \"WhiteElo\": game.headers.get(\"WhiteElo\", \"Unknown\"),\n",
    "                \"BlackElo\": game.headers.get(\"BlackElo\", \"Unknown\"),\n",
    "                \"TimeControl\": game.headers.get(\"TimeControl\", \"Unknown\"),\n",
    "                \"MoveCount\": move_count,\n",
    "                \"Moves\": moves\n",
    "            })\n",
    "    return pd.DataFrame(games)\n",
    "\n",
    "# Provide the PGN file path\n",
    "pgn_file_path = \"/Users/vedantpramodwagh/Documents/VC/lichess_db_standard_rated_2013-07.pgn\"\n",
    "\n",
    "# Process the PGN file\n",
    "df = process_pgn_with_moves(pgn_file_path)\n",
    "df.to_csv(\"chess_games_with_moves.csv\", index=False)\n",
    "print(\"Dataset with moves saved!\")\n"
   ]
  },
  {
   "cell_type": "code",
   "execution_count": null,
   "id": "2d95b9b8",
   "metadata": {},
   "outputs": [],
   "source": []
  },
  {
   "cell_type": "code",
   "execution_count": 43,
   "id": "2185a7ed",
   "metadata": {},
   "outputs": [
    {
     "data": {
      "text/html": [
       "<div>\n",
       "<style scoped>\n",
       "    .dataframe tbody tr th:only-of-type {\n",
       "        vertical-align: middle;\n",
       "    }\n",
       "\n",
       "    .dataframe tbody tr th {\n",
       "        vertical-align: top;\n",
       "    }\n",
       "\n",
       "    .dataframe thead th {\n",
       "        text-align: right;\n",
       "    }\n",
       "</style>\n",
       "<table border=\"1\" class=\"dataframe\">\n",
       "  <thead>\n",
       "    <tr style=\"text-align: right;\">\n",
       "      <th></th>\n",
       "      <th>White</th>\n",
       "      <th>Black</th>\n",
       "      <th>Result</th>\n",
       "      <th>Opening</th>\n",
       "      <th>WhiteElo</th>\n",
       "      <th>BlackElo</th>\n",
       "      <th>TimeControl</th>\n",
       "      <th>MoveCount</th>\n",
       "      <th>AverageElo</th>\n",
       "      <th>EloBracket</th>\n",
       "    </tr>\n",
       "  </thead>\n",
       "  <tbody>\n",
       "    <tr>\n",
       "      <th>0</th>\n",
       "      <td>dragansimic1946</td>\n",
       "      <td>aicho</td>\n",
       "      <td>0-1</td>\n",
       "      <td>Benoni Defense: Benoni Gambit Accepted</td>\n",
       "      <td>1685</td>\n",
       "      <td>1577.0</td>\n",
       "      <td>300+0</td>\n",
       "      <td>26</td>\n",
       "      <td>1631.0</td>\n",
       "      <td>Advanced</td>\n",
       "    </tr>\n",
       "    <tr>\n",
       "      <th>1</th>\n",
       "      <td>mchelken</td>\n",
       "      <td>dipo_a</td>\n",
       "      <td>1-0</td>\n",
       "      <td>French Defense: Knight Variation</td>\n",
       "      <td>1616</td>\n",
       "      <td>1421.0</td>\n",
       "      <td>180+0</td>\n",
       "      <td>33</td>\n",
       "      <td>1518.5</td>\n",
       "      <td>Intermediate</td>\n",
       "    </tr>\n",
       "    <tr>\n",
       "      <th>2</th>\n",
       "      <td>el_panuelo</td>\n",
       "      <td>Exotile</td>\n",
       "      <td>1-0</td>\n",
       "      <td>Mieses Opening</td>\n",
       "      <td>1629</td>\n",
       "      <td>2001.0</td>\n",
       "      <td>60+0</td>\n",
       "      <td>83</td>\n",
       "      <td>1815.0</td>\n",
       "      <td>Advanced</td>\n",
       "    </tr>\n",
       "    <tr>\n",
       "      <th>3</th>\n",
       "      <td>akner92val</td>\n",
       "      <td>dragansimic1946</td>\n",
       "      <td>1-0</td>\n",
       "      <td>Giuoco Piano</td>\n",
       "      <td>1562</td>\n",
       "      <td>1709.0</td>\n",
       "      <td>300+0</td>\n",
       "      <td>9</td>\n",
       "      <td>1635.5</td>\n",
       "      <td>Advanced</td>\n",
       "    </tr>\n",
       "    <tr>\n",
       "      <th>4</th>\n",
       "      <td>Beijamim</td>\n",
       "      <td>trom</td>\n",
       "      <td>0-1</td>\n",
       "      <td>East Indian Defense</td>\n",
       "      <td>1593</td>\n",
       "      <td>1761.0</td>\n",
       "      <td>180+0</td>\n",
       "      <td>90</td>\n",
       "      <td>1677.0</td>\n",
       "      <td>Advanced</td>\n",
       "    </tr>\n",
       "  </tbody>\n",
       "</table>\n",
       "</div>"
      ],
      "text/plain": [
       "             White            Black Result  \\\n",
       "0  dragansimic1946            aicho    0-1   \n",
       "1         mchelken           dipo_a    1-0   \n",
       "2       el_panuelo          Exotile    1-0   \n",
       "3       akner92val  dragansimic1946    1-0   \n",
       "4         Beijamim             trom    0-1   \n",
       "\n",
       "                                  Opening  WhiteElo  BlackElo TimeControl  \\\n",
       "0  Benoni Defense: Benoni Gambit Accepted      1685    1577.0       300+0   \n",
       "1        French Defense: Knight Variation      1616    1421.0       180+0   \n",
       "2                          Mieses Opening      1629    2001.0        60+0   \n",
       "3                            Giuoco Piano      1562    1709.0       300+0   \n",
       "4                     East Indian Defense      1593    1761.0       180+0   \n",
       "\n",
       "   MoveCount  AverageElo    EloBracket  \n",
       "0         26      1631.0      Advanced  \n",
       "1         33      1518.5  Intermediate  \n",
       "2         83      1815.0      Advanced  \n",
       "3          9      1635.5      Advanced  \n",
       "4         90      1677.0      Advanced  "
      ]
     },
     "execution_count": 43,
     "metadata": {},
     "output_type": "execute_result"
    }
   ],
   "source": [
    "# Clean the data\n",
    "df = pd.read_csv('/Users/vedantpramodwagh/Documents/VC/chess_games_raw.csv')\n",
    "df.head()"
   ]
  },
  {
   "cell_type": "code",
   "execution_count": 9,
   "id": "a0bd0887",
   "metadata": {},
   "outputs": [],
   "source": [
    "# Convert Elo rating to numeric and calculate average Elo\n",
    "df['WhiteElo'] = pd.to_numeric(df['WhiteElo'], errors='coerce')\n",
    "df['BlackElo'] = pd.to_numeric(df['BlackElo'], errors='coerce')\n",
    "df['AverageElo'] = (df['WhiteElo'] + df['BlackElo']) / 2"
   ]
  },
  {
   "cell_type": "code",
   "execution_count": 12,
   "id": "5fa9806d",
   "metadata": {},
   "outputs": [
    {
     "data": {
      "text/html": [
       "<div>\n",
       "<style scoped>\n",
       "    .dataframe tbody tr th:only-of-type {\n",
       "        vertical-align: middle;\n",
       "    }\n",
       "\n",
       "    .dataframe tbody tr th {\n",
       "        vertical-align: top;\n",
       "    }\n",
       "\n",
       "    .dataframe thead th {\n",
       "        text-align: right;\n",
       "    }\n",
       "</style>\n",
       "<table border=\"1\" class=\"dataframe\">\n",
       "  <thead>\n",
       "    <tr style=\"text-align: right;\">\n",
       "      <th></th>\n",
       "      <th>White</th>\n",
       "      <th>Black</th>\n",
       "      <th>Result</th>\n",
       "      <th>Opening</th>\n",
       "      <th>WhiteElo</th>\n",
       "      <th>BlackElo</th>\n",
       "      <th>TimeControl</th>\n",
       "      <th>MoveCount</th>\n",
       "      <th>AverageElo</th>\n",
       "      <th>EloBracket</th>\n",
       "    </tr>\n",
       "  </thead>\n",
       "  <tbody>\n",
       "    <tr>\n",
       "      <th>0</th>\n",
       "      <td>dragansimic1946</td>\n",
       "      <td>aicho</td>\n",
       "      <td>0-1</td>\n",
       "      <td>Benoni Defense: Benoni Gambit Accepted</td>\n",
       "      <td>1685</td>\n",
       "      <td>1577.0</td>\n",
       "      <td>300+0</td>\n",
       "      <td>26</td>\n",
       "      <td>1631.0</td>\n",
       "      <td>Advanced</td>\n",
       "    </tr>\n",
       "    <tr>\n",
       "      <th>1</th>\n",
       "      <td>mchelken</td>\n",
       "      <td>dipo_a</td>\n",
       "      <td>1-0</td>\n",
       "      <td>French Defense: Knight Variation</td>\n",
       "      <td>1616</td>\n",
       "      <td>1421.0</td>\n",
       "      <td>180+0</td>\n",
       "      <td>33</td>\n",
       "      <td>1518.5</td>\n",
       "      <td>Intermediate</td>\n",
       "    </tr>\n",
       "    <tr>\n",
       "      <th>2</th>\n",
       "      <td>el_panuelo</td>\n",
       "      <td>Exotile</td>\n",
       "      <td>1-0</td>\n",
       "      <td>Mieses Opening</td>\n",
       "      <td>1629</td>\n",
       "      <td>2001.0</td>\n",
       "      <td>60+0</td>\n",
       "      <td>83</td>\n",
       "      <td>1815.0</td>\n",
       "      <td>Advanced</td>\n",
       "    </tr>\n",
       "    <tr>\n",
       "      <th>3</th>\n",
       "      <td>akner92val</td>\n",
       "      <td>dragansimic1946</td>\n",
       "      <td>1-0</td>\n",
       "      <td>Giuoco Piano</td>\n",
       "      <td>1562</td>\n",
       "      <td>1709.0</td>\n",
       "      <td>300+0</td>\n",
       "      <td>9</td>\n",
       "      <td>1635.5</td>\n",
       "      <td>Advanced</td>\n",
       "    </tr>\n",
       "    <tr>\n",
       "      <th>4</th>\n",
       "      <td>Beijamim</td>\n",
       "      <td>trom</td>\n",
       "      <td>0-1</td>\n",
       "      <td>East Indian Defense</td>\n",
       "      <td>1593</td>\n",
       "      <td>1761.0</td>\n",
       "      <td>180+0</td>\n",
       "      <td>90</td>\n",
       "      <td>1677.0</td>\n",
       "      <td>Advanced</td>\n",
       "    </tr>\n",
       "  </tbody>\n",
       "</table>\n",
       "</div>"
      ],
      "text/plain": [
       "             White            Black Result  \\\n",
       "0  dragansimic1946            aicho    0-1   \n",
       "1         mchelken           dipo_a    1-0   \n",
       "2       el_panuelo          Exotile    1-0   \n",
       "3       akner92val  dragansimic1946    1-0   \n",
       "4         Beijamim             trom    0-1   \n",
       "\n",
       "                                  Opening  WhiteElo  BlackElo TimeControl  \\\n",
       "0  Benoni Defense: Benoni Gambit Accepted      1685    1577.0       300+0   \n",
       "1        French Defense: Knight Variation      1616    1421.0       180+0   \n",
       "2                          Mieses Opening      1629    2001.0        60+0   \n",
       "3                            Giuoco Piano      1562    1709.0       300+0   \n",
       "4                     East Indian Defense      1593    1761.0       180+0   \n",
       "\n",
       "   MoveCount  AverageElo    EloBracket  \n",
       "0         26      1631.0      Advanced  \n",
       "1         33      1518.5  Intermediate  \n",
       "2         83      1815.0      Advanced  \n",
       "3          9      1635.5      Advanced  \n",
       "4         90      1677.0      Advanced  "
      ]
     },
     "execution_count": 12,
     "metadata": {},
     "output_type": "execute_result"
    }
   ],
   "source": [
    "# Categorize ELO rating into skills level\n",
    "df['EloBracket'] = pd.cut(df['AverageElo'],bins = [0,1200,1600,2000,2400,2600],\n",
    "                         labels = ['Beginner', 'Intermediate','Advanced','Expert','Master'])\n",
    "\n",
    "# drop missing value\n",
    "df.dropna(inplace = True)\n",
    "df.head()"
   ]
  },
  {
   "cell_type": "code",
   "execution_count": 44,
   "id": "ab57881d",
   "metadata": {},
   "outputs": [
    {
     "name": "stdout",
     "output_type": "stream",
     "text": [
      "Cleaned data saved!\n"
     ]
    }
   ],
   "source": [
    "df.to_csv('/Users/vedantpramodwagh/Documents/VC/chess_games_raw.csv', index=False)\n",
    "print(\"Cleaned data saved!\")\n"
   ]
  },
  {
   "cell_type": "code",
   "execution_count": 15,
   "id": "6ec21bbc",
   "metadata": {},
   "outputs": [
    {
     "data": {
      "text/plain": [
       "Opening\n",
       "Van't Kruijs Opening                144\n",
       "Modern Defense                      110\n",
       "Horwitz Defense                     109\n",
       "French Defense: Knight Variation     86\n",
       "Queen's Pawn Game #2                 78\n",
       "Philidor Defense #3                  74\n",
       "Sicilian Defense: Bowdler Attack     74\n",
       "Caro-Kann Defense                    72\n",
       "Hungarian Opening                    71\n",
       "Bishop's Opening                     67\n",
       "Name: count, dtype: int64"
      ]
     },
     "execution_count": 15,
     "metadata": {},
     "output_type": "execute_result"
    }
   ],
   "source": [
    "# Analyze\n",
    "\n",
    "popular_openings = df['Opening'].value_counts().head(10)\n",
    "popular_openings"
   ]
  },
  {
   "cell_type": "code",
   "execution_count": 16,
   "id": "8f9c3262",
   "metadata": {},
   "outputs": [
    {
     "name": "stdout",
     "output_type": "stream",
     "text": [
      "Win Rate by Openings:\n",
      "Result                                              WhiteWinRate  BlackWinRate\n",
      "Opening                                                                       \n",
      "Alekhine Defense                                        0.666667      0.333333\n",
      "Alekhine Defense #2                                     0.750000      0.250000\n",
      "Alekhine Defense: Balogh Variation                           NaN      1.000000\n",
      "Alekhine Defense: Four Pawns Attack, Trifunovic...      1.000000           NaN\n",
      "Alekhine Defense: John Tracy Gambit                          NaN      1.000000\n",
      "Alekhine Defense: Krejcik Variation                          NaN      1.000000\n",
      "Alekhine Defense: Maroczy Variation                     1.000000           NaN\n",
      "Alekhine Defense: Modern Variation, Main Line           0.333333      0.666667\n",
      "Alekhine Defense: Normal Variation                      1.000000           NaN\n",
      "Alekhine Defense: Saemisch Attack                       1.000000           NaN\n"
     ]
    }
   ],
   "source": [
    "# Win rates by openings\n",
    "opening_success = df.groupby('Opening')['Result'].value_counts(normalize=True).unstack()\n",
    "opening_success['WhiteWinRate'] = opening_success.get('1-0',0)\n",
    "opening_success['BlackWinRate'] = opening_success.get('0-1',0)\n",
    "print('Win Rate by Openings:')\n",
    "print(opening_success[['WhiteWinRate','BlackWinRate']].head(10))"
   ]
  },
  {
   "cell_type": "code",
   "execution_count": 19,
   "id": "79de376e",
   "metadata": {},
   "outputs": [
    {
     "name": "stdout",
     "output_type": "stream",
     "text": [
      "Elo Trend Calculated!\n"
     ]
    },
    {
     "data": {
      "text/html": [
       "<div>\n",
       "<style scoped>\n",
       "    .dataframe tbody tr th:only-of-type {\n",
       "        vertical-align: middle;\n",
       "    }\n",
       "\n",
       "    .dataframe tbody tr th {\n",
       "        vertical-align: top;\n",
       "    }\n",
       "\n",
       "    .dataframe thead th {\n",
       "        text-align: right;\n",
       "    }\n",
       "</style>\n",
       "<table border=\"1\" class=\"dataframe\">\n",
       "  <thead>\n",
       "    <tr style=\"text-align: right;\">\n",
       "      <th></th>\n",
       "      <th>White</th>\n",
       "      <th>Black</th>\n",
       "      <th>Result</th>\n",
       "      <th>Opening</th>\n",
       "      <th>WhiteElo</th>\n",
       "      <th>BlackElo</th>\n",
       "      <th>TimeControl</th>\n",
       "      <th>MoveCount</th>\n",
       "      <th>AverageElo</th>\n",
       "      <th>EloBracket</th>\n",
       "      <th>GameNumber</th>\n",
       "    </tr>\n",
       "  </thead>\n",
       "  <tbody>\n",
       "    <tr>\n",
       "      <th>0</th>\n",
       "      <td>dragansimic1946</td>\n",
       "      <td>aicho</td>\n",
       "      <td>0-1</td>\n",
       "      <td>Benoni Defense: Benoni Gambit Accepted</td>\n",
       "      <td>1685</td>\n",
       "      <td>1577.0</td>\n",
       "      <td>300+0</td>\n",
       "      <td>26</td>\n",
       "      <td>1631.0</td>\n",
       "      <td>Advanced</td>\n",
       "      <td>1</td>\n",
       "    </tr>\n",
       "    <tr>\n",
       "      <th>1</th>\n",
       "      <td>mchelken</td>\n",
       "      <td>dipo_a</td>\n",
       "      <td>1-0</td>\n",
       "      <td>French Defense: Knight Variation</td>\n",
       "      <td>1616</td>\n",
       "      <td>1421.0</td>\n",
       "      <td>180+0</td>\n",
       "      <td>33</td>\n",
       "      <td>1518.5</td>\n",
       "      <td>Intermediate</td>\n",
       "      <td>2</td>\n",
       "    </tr>\n",
       "    <tr>\n",
       "      <th>2</th>\n",
       "      <td>el_panuelo</td>\n",
       "      <td>Exotile</td>\n",
       "      <td>1-0</td>\n",
       "      <td>Mieses Opening</td>\n",
       "      <td>1629</td>\n",
       "      <td>2001.0</td>\n",
       "      <td>60+0</td>\n",
       "      <td>83</td>\n",
       "      <td>1815.0</td>\n",
       "      <td>Advanced</td>\n",
       "      <td>3</td>\n",
       "    </tr>\n",
       "    <tr>\n",
       "      <th>3</th>\n",
       "      <td>akner92val</td>\n",
       "      <td>dragansimic1946</td>\n",
       "      <td>1-0</td>\n",
       "      <td>Giuoco Piano</td>\n",
       "      <td>1562</td>\n",
       "      <td>1709.0</td>\n",
       "      <td>300+0</td>\n",
       "      <td>9</td>\n",
       "      <td>1635.5</td>\n",
       "      <td>Advanced</td>\n",
       "      <td>4</td>\n",
       "    </tr>\n",
       "    <tr>\n",
       "      <th>4</th>\n",
       "      <td>Beijamim</td>\n",
       "      <td>trom</td>\n",
       "      <td>0-1</td>\n",
       "      <td>East Indian Defense</td>\n",
       "      <td>1593</td>\n",
       "      <td>1761.0</td>\n",
       "      <td>180+0</td>\n",
       "      <td>90</td>\n",
       "      <td>1677.0</td>\n",
       "      <td>Advanced</td>\n",
       "      <td>5</td>\n",
       "    </tr>\n",
       "    <tr>\n",
       "      <th>...</th>\n",
       "      <td>...</td>\n",
       "      <td>...</td>\n",
       "      <td>...</td>\n",
       "      <td>...</td>\n",
       "      <td>...</td>\n",
       "      <td>...</td>\n",
       "      <td>...</td>\n",
       "      <td>...</td>\n",
       "      <td>...</td>\n",
       "      <td>...</td>\n",
       "      <td>...</td>\n",
       "    </tr>\n",
       "    <tr>\n",
       "      <th>4995</th>\n",
       "      <td>DGK</td>\n",
       "      <td>aristov</td>\n",
       "      <td>1-0</td>\n",
       "      <td>Horwitz Defense</td>\n",
       "      <td>1318</td>\n",
       "      <td>1380.0</td>\n",
       "      <td>360+0</td>\n",
       "      <td>53</td>\n",
       "      <td>1349.0</td>\n",
       "      <td>Intermediate</td>\n",
       "      <td>4995</td>\n",
       "    </tr>\n",
       "    <tr>\n",
       "      <th>4996</th>\n",
       "      <td>AlwaysWinner</td>\n",
       "      <td>Lefler</td>\n",
       "      <td>1-0</td>\n",
       "      <td>Petrov's Defense</td>\n",
       "      <td>1544</td>\n",
       "      <td>1513.0</td>\n",
       "      <td>240+0</td>\n",
       "      <td>71</td>\n",
       "      <td>1528.5</td>\n",
       "      <td>Intermediate</td>\n",
       "      <td>4996</td>\n",
       "    </tr>\n",
       "    <tr>\n",
       "      <th>4997</th>\n",
       "      <td>axlj2013</td>\n",
       "      <td>Kimon</td>\n",
       "      <td>1-0</td>\n",
       "      <td>Bishop's Opening: Boi Variation</td>\n",
       "      <td>1661</td>\n",
       "      <td>1551.0</td>\n",
       "      <td>300+7</td>\n",
       "      <td>65</td>\n",
       "      <td>1606.0</td>\n",
       "      <td>Advanced</td>\n",
       "      <td>4997</td>\n",
       "    </tr>\n",
       "    <tr>\n",
       "      <th>4998</th>\n",
       "      <td>jaro</td>\n",
       "      <td>goebbels</td>\n",
       "      <td>0-1</td>\n",
       "      <td>Philidor Defense #3</td>\n",
       "      <td>1530</td>\n",
       "      <td>1641.0</td>\n",
       "      <td>300+1</td>\n",
       "      <td>74</td>\n",
       "      <td>1585.5</td>\n",
       "      <td>Intermediate</td>\n",
       "      <td>4998</td>\n",
       "    </tr>\n",
       "    <tr>\n",
       "      <th>4999</th>\n",
       "      <td>VHV1</td>\n",
       "      <td>gabrielvictor</td>\n",
       "      <td>1-0</td>\n",
       "      <td>Zukertort Opening: Slav Invitation</td>\n",
       "      <td>1685</td>\n",
       "      <td>1509.0</td>\n",
       "      <td>360+8</td>\n",
       "      <td>13</td>\n",
       "      <td>1597.0</td>\n",
       "      <td>Intermediate</td>\n",
       "      <td>4999</td>\n",
       "    </tr>\n",
       "  </tbody>\n",
       "</table>\n",
       "<p>4999 rows × 11 columns</p>\n",
       "</div>"
      ],
      "text/plain": [
       "                White            Black Result  \\\n",
       "0     dragansimic1946            aicho    0-1   \n",
       "1            mchelken           dipo_a    1-0   \n",
       "2          el_panuelo          Exotile    1-0   \n",
       "3          akner92val  dragansimic1946    1-0   \n",
       "4            Beijamim             trom    0-1   \n",
       "...               ...              ...    ...   \n",
       "4995              DGK          aristov    1-0   \n",
       "4996     AlwaysWinner           Lefler    1-0   \n",
       "4997         axlj2013            Kimon    1-0   \n",
       "4998             jaro         goebbels    0-1   \n",
       "4999             VHV1    gabrielvictor    1-0   \n",
       "\n",
       "                                     Opening  WhiteElo  BlackElo TimeControl  \\\n",
       "0     Benoni Defense: Benoni Gambit Accepted      1685    1577.0       300+0   \n",
       "1           French Defense: Knight Variation      1616    1421.0       180+0   \n",
       "2                             Mieses Opening      1629    2001.0        60+0   \n",
       "3                               Giuoco Piano      1562    1709.0       300+0   \n",
       "4                        East Indian Defense      1593    1761.0       180+0   \n",
       "...                                      ...       ...       ...         ...   \n",
       "4995                         Horwitz Defense      1318    1380.0       360+0   \n",
       "4996                        Petrov's Defense      1544    1513.0       240+0   \n",
       "4997         Bishop's Opening: Boi Variation      1661    1551.0       300+7   \n",
       "4998                     Philidor Defense #3      1530    1641.0       300+1   \n",
       "4999      Zukertort Opening: Slav Invitation      1685    1509.0       360+8   \n",
       "\n",
       "      MoveCount  AverageElo    EloBracket  GameNumber  \n",
       "0            26      1631.0      Advanced           1  \n",
       "1            33      1518.5  Intermediate           2  \n",
       "2            83      1815.0      Advanced           3  \n",
       "3             9      1635.5      Advanced           4  \n",
       "4            90      1677.0      Advanced           5  \n",
       "...         ...         ...           ...         ...  \n",
       "4995         53      1349.0  Intermediate        4995  \n",
       "4996         71      1528.5  Intermediate        4996  \n",
       "4997         65      1606.0      Advanced        4997  \n",
       "4998         74      1585.5  Intermediate        4998  \n",
       "4999         13      1597.0  Intermediate        4999  \n",
       "\n",
       "[4999 rows x 11 columns]"
      ]
     },
     "execution_count": 19,
     "metadata": {},
     "output_type": "execute_result"
    }
   ],
   "source": [
    "# Elo Trend Analysis\n",
    "df['GameNumber'] = range(1, len(df) + 1)\n",
    "elo_trend = df.groupby('GameNumber')['AverageElo'].mean()\n",
    "print(\"Elo Trend Calculated!\")\n",
    "elo_trend\n",
    "df"
   ]
  },
  {
   "cell_type": "code",
   "execution_count": 21,
   "id": "531d27b6",
   "metadata": {},
   "outputs": [
    {
     "data": {
      "image/png": "[encoded data removed]",
      "text/plain": [
       "<Figure size 1200x600 with 1 Axes>"
      ]
     },
     "metadata": {},
     "output_type": "display_data"
    }
   ],
   "source": [
    "# Create Visualizations\n",
    "# Elo trend\n",
    "import matplotlib.pyplot as plt\n",
    "plt.figure(figsize=(12,6))\n",
    "plt.plot(elo_trend.rolling(window=50).mean(),label='Smoothed Average Elo',color = 'blue')\n",
    "plt.title('Average Elo trend over game')\n",
    "plt.xlabel('Game Number')\n",
    "plt.ylabel('Average Elo')\n",
    "plt.legend()\n",
    "plt.grid(alpha = 0.3)\n",
    "plt.show()"
   ]
  },
  {
   "cell_type": "code",
   "execution_count": 25,
   "id": "3bd7209d",
   "metadata": {},
   "outputs": [
    {
     "data": {
      "application/vnd.plotly.v1+json": {
       "config": {
        "plotlyServerURL": "https://plot.ly"
       },
       "data": [
        {
         "alignmentgroup": "True",
         "hovertemplate": "variable=count<br>Opening=%{x}<br>value=%{y}<extra></extra>",
         "legendgroup": "count",
         "marker": {
          "color": "#636efa",
          "pattern": {
           "shape": ""
          }
         },
         "name": "count",
         "offsetgroup": "count",
         "orientation": "v",
         "showlegend": true,
         "textposition": "auto",
         "type": "bar",
         "x": [
          "Van't Kruijs Opening",
          "Modern Defense",
          "Horwitz Defense",
          "French Defense: Knight Variation",
          "Queen's Pawn Game #2",
          "Philidor Defense #3",
          "Sicilian Defense: Bowdler Attack",
          "Caro-Kann Defense",
          "Hungarian Opening",
          "Bishop's Opening"
         ],
         "xaxis": "x",
         "y": [
          144,
          110,
          109,
          86,
          78,
          74,
          74,
          72,
          71,
          67
         ],
         "yaxis": "y"
        }
       ],
       "layout": {
        "barmode": "relative",
        "legend": {
         "title": {
          "text": "variable"
         },
         "tracegroupgap": 0
        },
        "template": {
         "data": {
          "bar": [
           {
            "error_x": {
             "color": "#2a3f5f"
            },
            "error_y": {
             "color": "#2a3f5f"
            },
            "marker": {
             "line": {
              "color": "#E5ECF6",
              "width": 0.5
             },
             "pattern": {
              "fillmode": "overlay",
              "size": 10,
              "solidity": 0.2
             }
            },
            "type": "bar"
           }
          ],
          "barpolar": [
           {
            "marker": {
             "line": {
              "color": "#E5ECF6",
              "width": 0.5
             },
             "pattern": {
              "fillmode": "overlay",
              "size": 10,
              "solidity": 0.2
             }
            },
            "type": "barpolar"
           }
          ],
          "carpet": [
           {
            "aaxis": {
             "endlinecolor": "#2a3f5f",
             "gridcolor": "white",
             "linecolor": "white",
             "minorgridcolor": "white",
             "startlinecolor": "#2a3f5f"
            },
            "baxis": {
             "endlinecolor": "#2a3f5f",
             "gridcolor": "white",
             "linecolor": "white",
             "minorgridcolor": "white",
             "startlinecolor": "#2a3f5f"
            },
            "type": "carpet"
           }
          ],
          "choropleth": [
           {
            "colorbar": {
             "outlinewidth": 0,
             "ticks": ""
            },
            "type": "choropleth"
           }
          ],
          "contour": [
           {
            "colorbar": {
             "outlinewidth": 0,
             "ticks": ""
            },
            "colorscale": [
             [
              0,
              "#0d0887"
             ],
             [
              0.1111111111111111,
              "#46039f"
             ],
             [
              0.2222222222222222,
              "#7201a8"
             ],
             [
              0.3333333333333333,
              "#9c179e"
             ],
             [
              0.4444444444444444,
              "#bd3786"
             ],
             [
              0.5555555555555556,
              "#d8576b"
             ],
             [
              0.6666666666666666,
              "#ed7953"
             ],
             [
              0.7777777777777778,
              "#fb9f3a"
             ],
             [
              0.8888888888888888,
              "#fdca26"
             ],
             [
              1,
              "#f0f921"
             ]
            ],
            "type": "contour"
           }
          ],
          "contourcarpet": [
           {
            "colorbar": {
             "outlinewidth": 0,
             "ticks": ""
            },
            "type": "contourcarpet"
           }
          ],
          "heatmap": [
           {
            "colorbar": {
             "outlinewidth": 0,
             "ticks": ""
            },
            "colorscale": [
             [
              0,
              "#0d0887"
             ],
             [
              0.1111111111111111,
              "#46039f"
             ],
             [
              0.2222222222222222,
              "#7201a8"
             ],
             [
              0.3333333333333333,
              "#9c179e"
             ],
             [
              0.4444444444444444,
              "#bd3786"
             ],
             [
              0.5555555555555556,
              "#d8576b"
             ],
             [
              0.6666666666666666,
              "#ed7953"
             ],
             [
              0.7777777777777778,
              "#fb9f3a"
             ],
             [
              0.8888888888888888,
              "#fdca26"
             ],
             [
              1,
              "#f0f921"
             ]
            ],
            "type": "heatmap"
           }
          ],
          "heatmapgl": [
           {
            "colorbar": {
             "outlinewidth": 0,
             "ticks": ""
            },
            "colorscale": [
             [
              0,
              "#0d0887"
             ],
             [
              0.1111111111111111,
              "#46039f"
             ],
             [
              0.2222222222222222,
              "#7201a8"
             ],
             [
              0.3333333333333333,
              "#9c179e"
             ],
             [
              0.4444444444444444,
              "#bd3786"
             ],
             [
              0.5555555555555556,
              "#d8576b"
             ],
             [
              0.6666666666666666,
              "#ed7953"
             ],
             [
              0.7777777777777778,
              "#fb9f3a"
             ],
             [
              0.8888888888888888,
              "#fdca26"
             ],
             [
              1,
              "#f0f921"
             ]
            ],
            "type": "heatmapgl"
           }
          ],
          "histogram": [
           {
            "marker": {
             "pattern": {
              "fillmode": "overlay",
              "size": 10,
              "solidity": 0.2
             }
            },
            "type": "histogram"
           }
          ],
          "histogram2d": [
           {
            "colorbar": {
             "outlinewidth": 0,
             "ticks": ""
            },
            "colorscale": [
             [
              0,
              "#0d0887"
             ],
             [
              0.1111111111111111,
              "#46039f"
             ],
             [
              0.2222222222222222,
              "#7201a8"
             ],
             [
              0.3333333333333333,
              "#9c179e"
             ],
             [
              0.4444444444444444,
              "#bd3786"
             ],
             [
              0.5555555555555556,
              "#d8576b"
             ],
             [
              0.6666666666666666,
              "#ed7953"
             ],
             [
              0.7777777777777778,
              "#fb9f3a"
             ],
             [
              0.8888888888888888,
              "#fdca26"
             ],
             [
              1,
              "#f0f921"
             ]
            ],
            "type": "histogram2d"
           }
          ],
          "histogram2dcontour": [
           {
            "colorbar": {
             "outlinewidth": 0,
             "ticks": ""
            },
            "colorscale": [
             [
              0,
              "#0d0887"
             ],
             [
              0.1111111111111111,
              "#46039f"
             ],
             [
              0.2222222222222222,
              "#7201a8"
             ],
             [
              0.3333333333333333,
              "#9c179e"
             ],
             [
              0.4444444444444444,
              "#bd3786"
             ],
             [
              0.5555555555555556,
              "#d8576b"
             ],
             [
              0.6666666666666666,
              "#ed7953"
             ],
             [
              0.7777777777777778,
              "#fb9f3a"
             ],
             [
              0.8888888888888888,
              "#fdca26"
             ],
             [
              1,
              "#f0f921"
             ]
            ],
            "type": "histogram2dcontour"
           }
          ],
          "mesh3d": [
           {
            "colorbar": {
             "outlinewidth": 0,
             "ticks": ""
            },
            "type": "mesh3d"
           }
          ],
          "parcoords": [
           {
            "line": {
             "colorbar": {
              "outlinewidth": 0,
              "ticks": ""
             }
            },
            "type": "parcoords"
           }
          ],
          "pie": [
           {
            "automargin": true,
            "type": "pie"
           }
          ],
          "scatter": [
           {
            "fillpattern": {
             "fillmode": "overlay",
             "size": 10,
             "solidity": 0.2
            },
            "type": "scatter"
           }
          ],
          "scatter3d": [
           {
            "line": {
             "colorbar": {
              "outlinewidth": 0,
              "ticks": ""
             }
            },
            "marker": {
             "colorbar": {
              "outlinewidth": 0,
              "ticks": ""
             }
            },
            "type": "scatter3d"
           }
          ],
          "scattercarpet": [
           {
            "marker": {
             "colorbar": {
              "outlinewidth": 0,
              "ticks": ""
             }
            },
            "type": "scattercarpet"
           }
          ],
          "scattergeo": [
           {
            "marker": {
             "colorbar": {
              "outlinewidth": 0,
              "ticks": ""
             }
            },
            "type": "scattergeo"
           }
          ],
          "scattergl": [
           {
            "marker": {
             "colorbar": {
              "outlinewidth": 0,
              "ticks": ""
             }
            },
            "type": "scattergl"
           }
          ],
          "scattermapbox": [
           {
            "marker": {
             "colorbar": {
              "outlinewidth": 0,
              "ticks": ""
             }
            },
            "type": "scattermapbox"
           }
          ],
          "scatterpolar": [
           {
            "marker": {
             "colorbar": {
              "outlinewidth": 0,
              "ticks": ""
             }
            },
            "type": "scatterpolar"
           }
          ],
          "scatterpolargl": [
           {
            "marker": {
             "colorbar": {
              "outlinewidth": 0,
              "ticks": ""
             }
            },
            "type": "scatterpolargl"
           }
          ],
          "scatterternary": [
           {
            "marker": {
             "colorbar": {
              "outlinewidth": 0,
              "ticks": ""
             }
            },
            "type": "scatterternary"
           }
          ],
          "surface": [
           {
            "colorbar": {
             "outlinewidth": 0,
             "ticks": ""
            },
            "colorscale": [
             [
              0,
              "#0d0887"
             ],
             [
              0.1111111111111111,
              "#46039f"
             ],
             [
              0.2222222222222222,
              "#7201a8"
             ],
             [
              0.3333333333333333,
              "#9c179e"
             ],
             [
              0.4444444444444444,
              "#bd3786"
             ],
             [
              0.5555555555555556,
              "#d8576b"
             ],
             [
              0.6666666666666666,
              "#ed7953"
             ],
             [
              0.7777777777777778,
              "#fb9f3a"
             ],
             [
              0.8888888888888888,
              "#fdca26"
             ],
             [
              1,
              "#f0f921"
             ]
            ],
            "type": "surface"
           }
          ],
          "table": [
           {
            "cells": {
             "fill": {
              "color": "#EBF0F8"
             },
             "line": {
              "color": "white"
             }
            },
            "header": {
             "fill": {
              "color": "#C8D4E3"
             },
             "line": {
              "color": "white"
             }
            },
            "type": "table"
           }
          ]
         },
         "layout": {
          "annotationdefaults": {
           "arrowcolor": "#2a3f5f",
           "arrowhead": 0,
           "arrowwidth": 1
          },
          "autotypenumbers": "strict",
          "coloraxis": {
           "colorbar": {
            "outlinewidth": 0,
            "ticks": ""
           }
          },
          "colorscale": {
           "diverging": [
            [
             0,
             "#8e0152"
            ],
            [
             0.1,
             "#c51b7d"
            ],
            [
             0.2,
             "#de77ae"
            ],
            [
             0.3,
             "#f1b6da"
            ],
            [
             0.4,
             "#fde0ef"
            ],
            [
             0.5,
             "#f7f7f7"
            ],
            [
             0.6,
             "#e6f5d0"
            ],
            [
             0.7,
             "#b8e186"
            ],
            [
             0.8,
             "#7fbc41"
            ],
            [
             0.9,
             "#4d9221"
            ],
            [
             1,
             "#276419"
            ]
           ],
           "sequential": [
            [
             0,
             "#0d0887"
            ],
            [
             0.1111111111111111,
             "#46039f"
            ],
            [
             0.2222222222222222,
             "#7201a8"
            ],
            [
             0.3333333333333333,
             "#9c179e"
            ],
            [
             0.4444444444444444,
             "#bd3786"
            ],
            [
             0.5555555555555556,
             "#d8576b"
            ],
            [
             0.6666666666666666,
             "#ed7953"
            ],
            [
             0.7777777777777778,
             "#fb9f3a"
            ],
            [
             0.8888888888888888,
             "#fdca26"
            ],
            [
             1,
             "#f0f921"
            ]
           ],
           "sequentialminus": [
            [
             0,
             "#0d0887"
            ],
            [
             0.1111111111111111,
             "#46039f"
            ],
            [
             0.2222222222222222,
             "#7201a8"
            ],
            [
             0.3333333333333333,
             "#9c179e"
            ],
            [
             0.4444444444444444,
             "#bd3786"
            ],
            [
             0.5555555555555556,
             "#d8576b"
            ],
            [
             0.6666666666666666,
             "#ed7953"
            ],
            [
             0.7777777777777778,
             "#fb9f3a"
            ],
            [
             0.8888888888888888,
             "#fdca26"
            ],
            [
             1,
             "#f0f921"
            ]
           ]
          },
          "colorway": [
           "#636efa",
           "#EF553B",
           "#00cc96",
           "#ab63fa",
           "#FFA15A",
           "#19d3f3",
           "#FF6692",
           "#B6E880",
           "#FF97FF",
           "#FECB52"
          ],
          "font": {
           "color": "#2a3f5f"
          },
          "geo": {
           "bgcolor": "white",
           "lakecolor": "white",
           "landcolor": "#E5ECF6",
           "showlakes": true,
           "showland": true,
           "subunitcolor": "white"
          },
          "hoverlabel": {
           "align": "left"
          },
          "hovermode": "closest",
          "mapbox": {
           "style": "light"
          },
          "paper_bgcolor": "white",
          "plot_bgcolor": "#E5ECF6",
          "polar": {
           "angularaxis": {
            "gridcolor": "white",
            "linecolor": "white",
            "ticks": ""
           },
           "bgcolor": "#E5ECF6",
           "radialaxis": {
            "gridcolor": "white",
            "linecolor": "white",
            "ticks": ""
           }
          },
          "scene": {
           "xaxis": {
            "backgroundcolor": "#E5ECF6",
            "gridcolor": "white",
            "gridwidth": 2,
            "linecolor": "white",
            "showbackground": true,
            "ticks": "",
            "zerolinecolor": "white"
           },
           "yaxis": {
            "backgroundcolor": "#E5ECF6",
            "gridcolor": "white",
            "gridwidth": 2,
            "linecolor": "white",
            "showbackground": true,
            "ticks": "",
            "zerolinecolor": "white"
           },
           "zaxis": {
            "backgroundcolor": "#E5ECF6",
            "gridcolor": "white",
            "gridwidth": 2,
            "linecolor": "white",
            "showbackground": true,
            "ticks": "",
            "zerolinecolor": "white"
           }
          },
          "shapedefaults": {
           "line": {
            "color": "#2a3f5f"
           }
          },
          "ternary": {
           "aaxis": {
            "gridcolor": "white",
            "linecolor": "white",
            "ticks": ""
           },
           "baxis": {
            "gridcolor": "white",
            "linecolor": "white",
            "ticks": ""
           },
           "bgcolor": "#E5ECF6",
           "caxis": {
            "gridcolor": "white",
            "linecolor": "white",
            "ticks": ""
           }
          },
          "title": {
           "x": 0.05
          },
          "xaxis": {
           "automargin": true,
           "gridcolor": "white",
           "linecolor": "white",
           "ticks": "",
           "title": {
            "standoff": 15
           },
           "zerolinecolor": "white",
           "zerolinewidth": 2
          },
          "yaxis": {
           "automargin": true,
           "gridcolor": "white",
           "linecolor": "white",
           "ticks": "",
           "title": {
            "standoff": 15
           },
           "zerolinecolor": "white",
           "zerolinewidth": 2
          }
         }
        },
        "title": {
         "text": "Top 10 best popular opening"
        },
        "xaxis": {
         "anchor": "y",
         "domain": [
          0,
          1
         ],
         "title": {
          "text": "Opening"
         }
        },
        "yaxis": {
         "anchor": "x",
         "domain": [
          0,
          1
         ],
         "title": {
          "text": "value"
         }
        }
       }
      },
      "text/html": [
       "<div>                            <div id=\"1b1650ec-ac5a-4f57-9d4e-25ec059d2a8b\" class=\"plotly-graph-div\" style=\"height:525px; width:100%;\"></div>            <script type=\"text/javascript\">                require([\"plotly\"], function(Plotly) {                    window.PLOTLYENV=window.PLOTLYENV || {};                                    if (document.getElementById(\"1b1650ec-ac5a-4f57-9d4e-25ec059d2a8b\")) {                    Plotly.newPlot(                        \"1b1650ec-ac5a-4f57-9d4e-25ec059d2a8b\",                        [{\"alignmentgroup\":\"True\",\"hovertemplate\":\"variable=count<br>Opening=%{x}<br>value=%{y}<extra></extra>\",\"legendgroup\":\"count\",\"marker\":{\"color\":\"#636efa\",\"pattern\":{\"shape\":\"\"}},\"name\":\"count\",\"offsetgroup\":\"count\",\"orientation\":\"v\",\"showlegend\":true,\"textposition\":\"auto\",\"x\":[\"Van't Kruijs Opening\",\"Modern Defense\",\"Horwitz Defense\",\"French Defense: Knight Variation\",\"Queen's Pawn Game #2\",\"Philidor Defense #3\",\"Sicilian Defense: Bowdler Attack\",\"Caro-Kann Defense\",\"Hungarian Opening\",\"Bishop's Opening\"],\"xaxis\":\"x\",\"y\":[144,110,109,86,78,74,74,72,71,67],\"yaxis\":\"y\",\"type\":\"bar\"}],                        {\"template\":{\"data\":{\"histogram2dcontour\":[{\"type\":\"histogram2dcontour\",\"colorbar\":{\"outlinewidth\":0,\"ticks\":\"\"},\"colorscale\":[[0.0,\"#0d0887\"],[0.1111111111111111,\"#46039f\"],[0.2222222222222222,\"#7201a8\"],[0.3333333333333333,\"#9c179e\"],[0.4444444444444444,\"#bd3786\"],[0.5555555555555556,\"#d8576b\"],[0.6666666666666666,\"#ed7953\"],[0.7777777777777778,\"#fb9f3a\"],[0.8888888888888888,\"#fdca26\"],[1.0,\"#f0f921\"]]}],\"choropleth\":[{\"type\":\"choropleth\",\"colorbar\":{\"outlinewidth\":0,\"ticks\":\"\"}}],\"histogram2d\":[{\"type\":\"histogram2d\",\"colorbar\":{\"outlinewidth\":0,\"ticks\":\"\"},\"colorscale\":[[0.0,\"#0d0887\"],[0.1111111111111111,\"#46039f\"],[0.2222222222222222,\"#7201a8\"],[0.3333333333333333,\"#9c179e\"],[0.4444444444444444,\"#bd3786\"],[0.5555555555555556,\"#d8576b\"],[0.6666666666666666,\"#ed7953\"],[0.7777777777777778,\"#fb9f3a\"],[0.8888888888888888,\"#fdca26\"],[1.0,\"#f0f921\"]]}],\"heatmap\":[{\"type\":\"heatmap\",\"colorbar\":{\"outlinewidth\":0,\"ticks\":\"\"},\"colorscale\":[[0.0,\"#0d0887\"],[0.1111111111111111,\"#46039f\"],[0.2222222222222222,\"#7201a8\"],[0.3333333333333333,\"#9c179e\"],[0.4444444444444444,\"#bd3786\"],[0.5555555555555556,\"#d8576b\"],[0.6666666666666666,\"#ed7953\"],[0.7777777777777778,\"#fb9f3a\"],[0.8888888888888888,\"#fdca26\"],[1.0,\"#f0f921\"]]}],\"heatmapgl\":[{\"type\":\"heatmapgl\",\"colorbar\":{\"outlinewidth\":0,\"ticks\":\"\"},\"colorscale\":[[0.0,\"#0d0887\"],[0.1111111111111111,\"#46039f\"],[0.2222222222222222,\"#7201a8\"],[0.3333333333333333,\"#9c179e\"],[0.4444444444444444,\"#bd3786\"],[0.5555555555555556,\"#d8576b\"],[0.6666666666666666,\"#ed7953\"],[0.7777777777777778,\"#fb9f3a\"],[0.8888888888888888,\"#fdca26\"],[1.0,\"#f0f921\"]]}],\"contourcarpet\":[{\"type\":\"contourcarpet\",\"colorbar\":{\"outlinewidth\":0,\"ticks\":\"\"}}],\"contour\":[{\"type\":\"contour\",\"colorbar\":{\"outlinewidth\":0,\"ticks\":\"\"},\"colorscale\":[[0.0,\"#0d0887\"],[0.1111111111111111,\"#46039f\"],[0.2222222222222222,\"#7201a8\"],[0.3333333333333333,\"#9c179e\"],[0.4444444444444444,\"#bd3786\"],[0.5555555555555556,\"#d8576b\"],[0.6666666666666666,\"#ed7953\"],[0.7777777777777778,\"#fb9f3a\"],[0.8888888888888888,\"#fdca26\"],[1.0,\"#f0f921\"]]}],\"surface\":[{\"type\":\"surface\",\"colorbar\":{\"outlinewidth\":0,\"ticks\":\"\"},\"colorscale\":[[0.0,\"#0d0887\"],[0.1111111111111111,\"#46039f\"],[0.2222222222222222,\"#7201a8\"],[0.3333333333333333,\"#9c179e\"],[0.4444444444444444,\"#bd3786\"],[0.5555555555555556,\"#d8576b\"],[0.6666666666666666,\"#ed7953\"],[0.7777777777777778,\"#fb9f3a\"],[0.8888888888888888,\"#fdca26\"],[1.0,\"#f0f921\"]]}],\"mesh3d\":[{\"type\":\"mesh3d\",\"colorbar\":{\"outlinewidth\":0,\"ticks\":\"\"}}],\"scatter\":[{\"fillpattern\":{\"fillmode\":\"overlay\",\"size\":10,\"solidity\":0.2},\"type\":\"scatter\"}],\"parcoords\":[{\"type\":\"parcoords\",\"line\":{\"colorbar\":{\"outlinewidth\":0,\"ticks\":\"\"}}}],\"scatterpolargl\":[{\"type\":\"scatterpolargl\",\"marker\":{\"colorbar\":{\"outlinewidth\":0,\"ticks\":\"\"}}}],\"bar\":[{\"error_x\":{\"color\":\"#2a3f5f\"},\"error_y\":{\"color\":\"#2a3f5f\"},\"marker\":{\"line\":{\"color\":\"#E5ECF6\",\"width\":0.5},\"pattern\":{\"fillmode\":\"overlay\",\"size\":10,\"solidity\":0.2}},\"type\":\"bar\"}],\"scattergeo\":[{\"type\":\"scattergeo\",\"marker\":{\"colorbar\":{\"outlinewidth\":0,\"ticks\":\"\"}}}],\"scatterpolar\":[{\"type\":\"scatterpolar\",\"marker\":{\"colorbar\":{\"outlinewidth\":0,\"ticks\":\"\"}}}],\"histogram\":[{\"marker\":{\"pattern\":{\"fillmode\":\"overlay\",\"size\":10,\"solidity\":0.2}},\"type\":\"histogram\"}],\"scattergl\":[{\"type\":\"scattergl\",\"marker\":{\"colorbar\":{\"outlinewidth\":0,\"ticks\":\"\"}}}],\"scatter3d\":[{\"type\":\"scatter3d\",\"line\":{\"colorbar\":{\"outlinewidth\":0,\"ticks\":\"\"}},\"marker\":{\"colorbar\":{\"outlinewidth\":0,\"ticks\":\"\"}}}],\"scattermapbox\":[{\"type\":\"scattermapbox\",\"marker\":{\"colorbar\":{\"outlinewidth\":0,\"ticks\":\"\"}}}],\"scatterternary\":[{\"type\":\"scatterternary\",\"marker\":{\"colorbar\":{\"outlinewidth\":0,\"ticks\":\"\"}}}],\"scattercarpet\":[{\"type\":\"scattercarpet\",\"marker\":{\"colorbar\":{\"outlinewidth\":0,\"ticks\":\"\"}}}],\"carpet\":[{\"aaxis\":{\"endlinecolor\":\"#2a3f5f\",\"gridcolor\":\"white\",\"linecolor\":\"white\",\"minorgridcolor\":\"white\",\"startlinecolor\":\"#2a3f5f\"},\"baxis\":{\"endlinecolor\":\"#2a3f5f\",\"gridcolor\":\"white\",\"linecolor\":\"white\",\"minorgridcolor\":\"white\",\"startlinecolor\":\"#2a3f5f\"},\"type\":\"carpet\"}],\"table\":[{\"cells\":{\"fill\":{\"color\":\"#EBF0F8\"},\"line\":{\"color\":\"white\"}},\"header\":{\"fill\":{\"color\":\"#C8D4E3\"},\"line\":{\"color\":\"white\"}},\"type\":\"table\"}],\"barpolar\":[{\"marker\":{\"line\":{\"color\":\"#E5ECF6\",\"width\":0.5},\"pattern\":{\"fillmode\":\"overlay\",\"size\":10,\"solidity\":0.2}},\"type\":\"barpolar\"}],\"pie\":[{\"automargin\":true,\"type\":\"pie\"}]},\"layout\":{\"autotypenumbers\":\"strict\",\"colorway\":[\"#636efa\",\"#EF553B\",\"#00cc96\",\"#ab63fa\",\"#FFA15A\",\"#19d3f3\",\"#FF6692\",\"#B6E880\",\"#FF97FF\",\"#FECB52\"],\"font\":{\"color\":\"#2a3f5f\"},\"hovermode\":\"closest\",\"hoverlabel\":{\"align\":\"left\"},\"paper_bgcolor\":\"white\",\"plot_bgcolor\":\"#E5ECF6\",\"polar\":{\"bgcolor\":\"#E5ECF6\",\"angularaxis\":{\"gridcolor\":\"white\",\"linecolor\":\"white\",\"ticks\":\"\"},\"radialaxis\":{\"gridcolor\":\"white\",\"linecolor\":\"white\",\"ticks\":\"\"}},\"ternary\":{\"bgcolor\":\"#E5ECF6\",\"aaxis\":{\"gridcolor\":\"white\",\"linecolor\":\"white\",\"ticks\":\"\"},\"baxis\":{\"gridcolor\":\"white\",\"linecolor\":\"white\",\"ticks\":\"\"},\"caxis\":{\"gridcolor\":\"white\",\"linecolor\":\"white\",\"ticks\":\"\"}},\"coloraxis\":{\"colorbar\":{\"outlinewidth\":0,\"ticks\":\"\"}},\"colorscale\":{\"sequential\":[[0.0,\"#0d0887\"],[0.1111111111111111,\"#46039f\"],[0.2222222222222222,\"#7201a8\"],[0.3333333333333333,\"#9c179e\"],[0.4444444444444444,\"#bd3786\"],[0.5555555555555556,\"#d8576b\"],[0.6666666666666666,\"#ed7953\"],[0.7777777777777778,\"#fb9f3a\"],[0.8888888888888888,\"#fdca26\"],[1.0,\"#f0f921\"]],\"sequentialminus\":[[0.0,\"#0d0887\"],[0.1111111111111111,\"#46039f\"],[0.2222222222222222,\"#7201a8\"],[0.3333333333333333,\"#9c179e\"],[0.4444444444444444,\"#bd3786\"],[0.5555555555555556,\"#d8576b\"],[0.6666666666666666,\"#ed7953\"],[0.7777777777777778,\"#fb9f3a\"],[0.8888888888888888,\"#fdca26\"],[1.0,\"#f0f921\"]],\"diverging\":[[0,\"#8e0152\"],[0.1,\"#c51b7d\"],[0.2,\"#de77ae\"],[0.3,\"#f1b6da\"],[0.4,\"#fde0ef\"],[0.5,\"#f7f7f7\"],[0.6,\"#e6f5d0\"],[0.7,\"#b8e186\"],[0.8,\"#7fbc41\"],[0.9,\"#4d9221\"],[1,\"#276419\"]]},\"xaxis\":{\"gridcolor\":\"white\",\"linecolor\":\"white\",\"ticks\":\"\",\"title\":{\"standoff\":15},\"zerolinecolor\":\"white\",\"automargin\":true,\"zerolinewidth\":2},\"yaxis\":{\"gridcolor\":\"white\",\"linecolor\":\"white\",\"ticks\":\"\",\"title\":{\"standoff\":15},\"zerolinecolor\":\"white\",\"automargin\":true,\"zerolinewidth\":2},\"scene\":{\"xaxis\":{\"backgroundcolor\":\"#E5ECF6\",\"gridcolor\":\"white\",\"linecolor\":\"white\",\"showbackground\":true,\"ticks\":\"\",\"zerolinecolor\":\"white\",\"gridwidth\":2},\"yaxis\":{\"backgroundcolor\":\"#E5ECF6\",\"gridcolor\":\"white\",\"linecolor\":\"white\",\"showbackground\":true,\"ticks\":\"\",\"zerolinecolor\":\"white\",\"gridwidth\":2},\"zaxis\":{\"backgroundcolor\":\"#E5ECF6\",\"gridcolor\":\"white\",\"linecolor\":\"white\",\"showbackground\":true,\"ticks\":\"\",\"zerolinecolor\":\"white\",\"gridwidth\":2}},\"shapedefaults\":{\"line\":{\"color\":\"#2a3f5f\"}},\"annotationdefaults\":{\"arrowcolor\":\"#2a3f5f\",\"arrowhead\":0,\"arrowwidth\":1},\"geo\":{\"bgcolor\":\"white\",\"landcolor\":\"#E5ECF6\",\"subunitcolor\":\"white\",\"showland\":true,\"showlakes\":true,\"lakecolor\":\"white\"},\"title\":{\"x\":0.05},\"mapbox\":{\"style\":\"light\"}}},\"xaxis\":{\"anchor\":\"y\",\"domain\":[0.0,1.0],\"title\":{\"text\":\"Opening\"}},\"yaxis\":{\"anchor\":\"x\",\"domain\":[0.0,1.0],\"title\":{\"text\":\"value\"}},\"legend\":{\"title\":{\"text\":\"variable\"},\"tracegroupgap\":0},\"title\":{\"text\":\"Top 10 best popular opening\"},\"barmode\":\"relative\"},                        {\"responsive\": true}                    ).then(function(){\n",
       "                            \n",
       "var gd = document.getElementById('1b1650ec-ac5a-4f57-9d4e-25ec059d2a8b');\n",
       "var x = new MutationObserver(function (mutations, observer) {{\n",
       "        var display = window.getComputedStyle(gd).display;\n",
       "        if (!display || display === 'none') {{\n",
       "            console.log([gd, 'removed!']);\n",
       "            Plotly.purge(gd);\n",
       "            observer.disconnect();\n",
       "        }}\n",
       "}});\n",
       "\n",
       "// Listen for the removal of the full notebook cells\n",
       "var notebookContainer = gd.closest('#notebook-container');\n",
       "if (notebookContainer) {{\n",
       "    x.observe(notebookContainer, {childList: true});\n",
       "}}\n",
       "\n",
       "// Listen for the clearing of the current output cell\n",
       "var outputEl = gd.closest('.output');\n",
       "if (outputEl) {{\n",
       "    x.observe(outputEl, {childList: true});\n",
       "}}\n",
       "\n",
       "                        })                };                });            </script>        </div>"
      ]
     },
     "metadata": {},
     "output_type": "display_data"
    }
   ],
   "source": [
    "# Popular Openings Bar chart\n",
    "\n",
    "import plotly.express as px\n",
    "\n",
    "fig_openings = px.bar(\n",
    "popular_openings,\n",
    "title = 'Top 10 best popular opening',\n",
    "labels ={'index':'Opening','Value':'Gamesplayed'})\n",
    "fig_openings.show()"
   ]
  },
  {
   "cell_type": "code",
   "execution_count": 26,
   "id": "8cf043ec",
   "metadata": {},
   "outputs": [],
   "source": [
    "\n"
   ]
  }
 ],
 "metadata": {
  "kernelspec": {
   "display_name": "Python (myenv)",
   "language": "python",
   "name": "myenv"
  },
  "language_info": {
   "codemirror_mode": {
    "name": "ipython",
    "version": 3
   },
   "file_extension": ".py",
   "mimetype": "text/x-python",
   "name": "python",
   "nbconvert_exporter": "python",
   "pygments_lexer": "ipython3",
   "version": "3.11.7"
  }
 },
 "nbformat": 4,
 "nbformat_minor": 5
}
